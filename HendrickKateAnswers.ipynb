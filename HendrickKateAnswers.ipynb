{
 "cells": [
  {
   "cell_type": "markdown",
   "metadata": {},
   "source": [
    "# Physics 240 \n",
    "## Intermediate Physics Laboratory\n",
    "## FINAL EXAM\n",
    "\n",
    "### Instructions: \n",
    "Answer the following questions and typeset your answers within this notebook, \n",
    "using a mix of markdown and LaTeX code. Some of your work will likely be done\n",
    "by hand; for this work, make sure to turn in these calculations, but still put the \n",
    "answers in this Jupyter Notebook. \n",
    "\n",
    "Follow the steps below and answer the questions as indicated."
   ]
  },
  {
   "cell_type": "code",
   "execution_count": 28,
   "metadata": {
    "collapsed": false
   },
   "outputs": [
    {
     "data": {
      "text/html": [
       "<link href='http://fonts.googleapis.com/css?family=Fenix' rel='stylesheet' type='text/css'>\n",
       "<link href='http://fonts.googleapis.com/css?family=Alegreya+Sans:100,300,400,500,700,800,900,100italic,300italic,400italic,500italic,700italic,800italic,900italic' rel='stylesheet' type='text/css'>\n",
       "<link href='http://fonts.googleapis.com/css?family=Source+Code+Pro:300,400' rel='stylesheet' type='text/css'>\n",
       "<style>\n",
       "\n",
       "@font-face {\n",
       "    font-family: \"Computer Modern\";\n",
       "    src: url('http://mirrors.ctan.org/fonts/cm-unicode/fonts/otf/cmunss.otf');\n",
       "}\n",
       "\n",
       "\n",
       "#notebook_panel { /* main background */\n",
       "    background: rgb(245,245,245);\n",
       "}\n",
       "\n",
       "div.cell { /* set cell width */\n",
       "    width: 800px;\n",
       "}\n",
       "\n",
       "div #notebook { /* centre the content */\n",
       "    background: #fff; /* white background for content */\n",
       "    width: 1000px;\n",
       "    margin: auto;\n",
       "    padding-left: 0em;\n",
       "}\n",
       "\n",
       "#notebook li { /* More space between bullet points */\n",
       "margin-top:0.8em;\n",
       "}\n",
       "\n",
       "/* draw border around running cells */\n",
       "div.cell.border-box-sizing.code_cell.running {\n",
       "    border: 1px solid #111;\n",
       "}\n",
       "\n",
       "/* Put a solid color box around each cell and its output, visually linking them*/\n",
       "div.cell.code_cell {\n",
       "    background-color: rgb(256,256,256);\n",
       "    border-radius: 0px;\n",
       "    padding: 0.5em;\n",
       "    margin-left:1em;\n",
       "    margin-top: 1em;\n",
       "}\n",
       "\n",
       "\n",
       "div.text_cell_render{\n",
       "    font-family: 'Alegreya Sans' sans-serif;\n",
       "    line-height: 140%;\n",
       "    font-size: 125%;\n",
       "    font-weight: 400;\n",
       "    width:600px;\n",
       "    margin-left:auto;\n",
       "    margin-right:auto;\n",
       "}\n",
       "\n",
       "/* Formatting for header cells */\n",
       ".text_cell_render h1 {\n",
       "    font-family: 'Alegreya Sans', sans-serif;\n",
       "    font-style:regular;\n",
       "    font-weight: 200;\n",
       "    font-size: 45pt;\n",
       "    line-height: 100%;\n",
       "    color:#CD2305;\n",
       "    margin-bottom: 0.5em;\n",
       "    margin-top: 0.5em;\n",
       "    display: block;\n",
       "}\n",
       ".text_cell_render h2 {\n",
       "    font-family: 'Fenix', serif;\n",
       "    font-size: 22pt;\n",
       "    line-height: 100%;\n",
       "    margin-bottom: 0.1em;\n",
       "    margin-top: 0.3em;\n",
       "    display: block;\n",
       "}\n",
       "\n",
       ".text_cell_render h3 {\n",
       "    font-family: 'Fenix', serif;\n",
       "    margin-top:12px;\n",
       "\tfont-size: 16pt;\n",
       "    margin-bottom: 3px;\n",
       "    font-style: regular;\n",
       "}\n",
       "\n",
       ".text_cell_render h4 {    /*Use this for captions*/\n",
       "    font-family: 'Fenix', serif;\n",
       "    font-size: 2pt;\n",
       "    text-align: center;\n",
       "    margin-top: 0em;\n",
       "    margin-bottom: 2em;\n",
       "    font-style: regular;\n",
       "}\n",
       "\n",
       ".text_cell_render h5 {  /*Use this for small titles*/\n",
       "    font-family: 'Alegreya Sans', sans-serif;\n",
       "    font-weight: 300;\n",
       "    font-size: 16pt;\n",
       "    color: #CD2305;\n",
       "    font-style: italic;\n",
       "    margin-bottom: .5em;\n",
       "    margin-top: 0.5em;\n",
       "    display: block;\n",
       "}\n",
       "\n",
       ".text_cell_render h6 { /*use this for copyright note*/\n",
       "    font-family: 'Source Code Pro', sans-serif;\n",
       "    font-weight: 300;\n",
       "    font-size: 9pt;\n",
       "    line-height: 100%;\n",
       "    color: grey;\n",
       "    margin-bottom: 1px;\n",
       "    margin-top: 1px;\n",
       "}\n",
       "\n",
       "    .CodeMirror{\n",
       "            font-family: \"Source Code Pro\";\n",
       "\t\t\tfont-size: 90%;\n",
       "    }\n",
       "/*    .prompt{\n",
       "        display: None;\n",
       "    }*/\n",
       "\n",
       "\n",
       "    .warning{\n",
       "        color: rgb( 240, 20, 20 )\n",
       "        }\n",
       "</style>\n",
       "<script>\n",
       "    MathJax.Hub.Config({\n",
       "                        TeX: {\n",
       "                           extensions: [\"AMSmath.js\"],\n",
       "                           equationNumbers: { autoNumber: \"AMS\", useLabelIds: true}\n",
       "                           },\n",
       "                tex2jax: {\n",
       "                    inlineMath: [ ['$','$'], [\"\\\\(\",\"\\\\)\"] ],\n",
       "                    displayMath: [ ['$$','$$'], [\"\\\\[\",\"\\\\]\"] ]\n",
       "                },\n",
       "                displayAlign: 'center', // Change this to 'center' to center equations.\n",
       "                \"HTML-CSS\": {\n",
       "                    styles: {'.MathJax_Display': {\"margin\": 4}}\n",
       "                }\n",
       "        });\n",
       "</script>\n"
      ],
      "text/plain": [
       "<IPython.core.display.HTML object>"
      ]
     },
     "execution_count": 28,
     "metadata": {},
     "output_type": "execute_result"
    }
   ],
   "source": [
    "## This cell installs custom CSS Cell Styles obtained from \n",
    "## Prof. Lorena Barba at https://github.com/barbagroup/AeroPython \n",
    "from IPython.core.display import HTML\n",
    "def css_styling():\n",
    "    styles = open('styles/custom.css', 'r').read()\n",
    "    return HTML(styles)\n",
    "css_styling()"
   ]
  },
  {
   "cell_type": "code",
   "execution_count": 29,
   "metadata": {
    "collapsed": false
   },
   "outputs": [],
   "source": [
    "import numpy as np\n",
    "import matplotlib.pyplot as plt\n",
    "from scipy.optimize import curve_fit\n",
    "% matplotlib inline\n",
    "from matplotlib import rc\n",
    "rc('text', usetex=True)\n",
    "from pylab import rcParams\n",
    "rcParams['figure.figsize'] = 10,8"
   ]
  },
  {
   "cell_type": "markdown",
   "metadata": {},
   "source": [
    "## Step 1: Create a GitHub Repository and make an initial commit.\n",
    "    a. Create a folder in your Documents folder called LastnameFirstname240FinalExam.\n",
    "    b. Create a new repository within this folder called 240FinalExam\n",
    "    c. Save this file into the above folder as LastnameFirstnameAnswers.ipynb \n",
    "    d. You should then see an uncommitted change to the 240FinalExam repository; name this \"initial commit\"\n",
    "    and publish the changes.\n",
    "    \n",
    "For example, if your name was Albert Einstein, you'd create a folder called   \n",
    "    *EinsteinAlbert240FinalExam*,   \n",
    "then you would create a new GitHub repository (within this folder) called   \n",
    "    *240FinalExam*   \n",
    "and would save this file into the folder 240FinalExam as    \n",
    "    *EinsteinAlbertFinalAnswers.ipynb*   \n",
    "and upload the file to your github account. \n",
    "\n",
    "Hint: Once you complete steps (a) and (b), you can simply close and halt this notebook (from the Jupyter Notebook file menu, and use your file system browser to drag this file into the folder 240FinalExam. Then this file's existence should show up as as an uncommitted change which you can publish (after first labelling it as the initial commit, of course). \n",
    "\n",
    "All of the above may be easily done by using a GitHub Gui Client available for OSX, Linux, and Windoze at:\n",
    "https://github.com/gitterHQ/desktop\n",
    "\n",
    "For the following questions, I encourage you to make and publish a new commit after you finish each question.\n"
   ]
  },
  {
   "cell_type": "markdown",
   "metadata": {},
   "source": [
    "# Question 1\n",
    "## Statistical Uncertainty with dropped velociraptors\n",
    "\n",
    "<img src=\"Velociraptor.jpg\" width=150 height=150>\n",
    "\n",
    "A velociraptor is dropped from a height of 10.0 $\\pm$ 0.1 meters and the fall time   \n",
    "is measured to the nearest 0.01 seconds. This *experiment* is performed a dozen times with the following drop times in seconds obtained:   \n",
    "1.22, 1.39, 1.55, 1.43, 1.11, 1.64, 1.44, 1.33, 1.55, 1.49, 1.47, 1.35   \n",
    "Calculate the mean value of the drop time and the root mean square uncertainty, $\\Delta t_{rms}$. You may use python or---if you like suffering---your calculator. "
   ]
  },
  {
   "cell_type": "markdown",
   "metadata": {},
   "source": [
    "### Solution method :\n",
    "\n",
    "The average time is just $\\frac{\\sum t_i}{12}$.  The root mean square uncertainty is $\\sqrt {\\frac {\\sum({t_{ave}-t_i})^2}{12-1}}$. "
   ]
  },
  {
   "cell_type": "code",
   "execution_count": 40,
   "metadata": {
    "collapsed": false
   },
   "outputs": [
    {
     "data": {
      "text/plain": [
       "1.4141666666666668"
      ]
     },
     "execution_count": 40,
     "metadata": {},
     "output_type": "execute_result"
    }
   ],
   "source": [
    "raptordata =  (1.22, 1.39, 1.55, 1.43, 1.11, 1.64, 1.44, 1.33, 1.55, 1.49, 1.47, 1.35)\n",
    "\n",
    "np.average(raptordata)"
   ]
  },
  {
   "cell_type": "code",
   "execution_count": 44,
   "metadata": {
    "collapsed": false
   },
   "outputs": [
    {
     "name": "stdout",
     "output_type": "stream",
     "text": [
      "0.0180906806747\n"
     ]
    }
   ],
   "source": [
    "\n",
    "for i in range(len(raptordata)):\n",
    "    rms = np.sqrt(((1.41-raptordata[i])**2)/(len(raptordata)-1))\n",
    "print (rms)"
   ]
  },
  {
   "cell_type": "markdown",
   "metadata": {},
   "source": [
    "### Question 1 Answer\n",
    "\n",
    "Mean time = 1.41 seconds\n",
    "\n",
    "$\\Delta t_{rms} = 1.81 \\times 10^{-2} $ seconds"
   ]
  },
  {
   "cell_type": "markdown",
   "metadata": {},
   "source": [
    "# Question 2\n",
    "## Error Propagation; measuring g via dropped velociraptors\n",
    "\n",
    "Suppose you assume that the velociraptor drop experiment was used to determine the acceleration due to gravity. Using your knowledge of basic kinematics (and assuming\n",
    "no air resistance), calculate the experimental value of $g$ that you should report for this data."
   ]
  },
  {
   "cell_type": "markdown",
   "metadata": {},
   "source": [
    "### Solution Method:\n",
    "\n",
    "From basic kinematics, $\\Delta d = v_0 t + \\frac{1}{2} at^2$, where in this case, $v_0 = 0$ and $a=g$.  Thus, $g=\\frac{2d}{t^2} = \\frac{2*10m}{t^2}$.  The uncertainty in $g$ , $\\Delta g = 2\\sqrt{(\\frac{\\delta F}{\\delta d} \\Delta d)^2 + (\\frac{\\delta F}{\\delta t} \\Delta t)^2}$.\n",
    "\n",
    "Solving for the partial derivatives, we get $\\Delta g = 2\\sqrt{(2t^{-2}*0.1)^2 + (-4dt^{-3}*0.01)^2}$\n",
    "\n"
   ]
  },
  {
   "cell_type": "code",
   "execution_count": 39,
   "metadata": {
    "collapsed": false
   },
   "outputs": [
    {
     "name": "stdout",
     "output_type": "stream",
     "text": [
      "average uncertainty = 1.83\n",
      "g=10.06\n"
     ]
    }
   ],
   "source": [
    "uncert = []\n",
    "d = 10.0\n",
    "for i in range(len(raptordata)):\n",
    "    uncert.append(2*np.sqrt(0.1*2*raptordata[i]**(-2)**2)+(-4*d*raptordata[i]**(-3)*0.01)**2)\n",
    "print ('average uncertainty = %0.2f'%(np.average(uncert)))\n",
    "    \n",
    "g = 2*10/(1.41**2)\n",
    "print ('g=%0.2f'%(g))\n"
   ]
  },
  {
   "cell_type": "markdown",
   "metadata": {},
   "source": [
    "### Question 2 Answer\n",
    "\n",
    "g = (10.1 $\\pm$1.8)$\\frac{m}{s}$"
   ]
  },
  {
   "cell_type": "markdown",
   "metadata": {},
   "source": [
    "# Question 3\n",
    "## Determining g with a point mass pendulum via plotting\n",
    "\n",
    "Suppose that you measure the period of a simple pendulum as a function of length   \n",
    "and obtain the following data:   \n",
    "\n",
    "Period Values ($\\pm 0.1$ s) =  0.50, 1.00, 1.50, 2.00, 2.50, 3.00, 3.50, 4.00, 4.50.   \n",
    "Length $(\\pm 0.03)$ m =  0.010,  0.025, 0.070,  0.10,  0.140, 0.230, 0.310, 0.350, 0.500   \n",
    "\n",
    "Knowing that the period of a simple pendulum is   \n",
    "$\\displaystyle T = 2π\\sqrt{\\frac{L}{g}}$   \n",
    "and use an appropriate graph, such that the plot:   \n",
    "\n",
    "    a. gives a straight line whose slope   \n",
    "       directly gives the value of g   \n",
    "    b. shows data points with error bars   \n",
    "    c. includes axes labels and units   \n",
    "    d. includes a best fit line to the data.   \n",
    "\n",
    "Note that you might not be on the earth when conducting this experiment.\n"
   ]
  },
  {
   "cell_type": "markdown",
   "metadata": {},
   "source": [
    "### Solution method:\n",
    "\n",
    "Knowing $T=2\\pi \\sqrt{\\frac{L}{g}}$, we can solve for $g=\\frac{4\\pi ^2 L}{T^2}$.  Plotting $4\\pi^2L$ vs $T^2$ should give us a graph whose slope is g.  See scrap paper for uncertainty work."
   ]
  },
  {
   "cell_type": "code",
   "execution_count": 45,
   "metadata": {
    "collapsed": false
   },
   "outputs": [
    {
     "name": "stdout",
     "output_type": "stream",
     "text": [
      "[4.7793349130511276, 1.200689196796255, 0.55126477021416931, 0.31210429512264393, 0.20227157050791414, 0.14778706173405759, 0.11227846959894433, 0.085695578962600744, 0.072784544875520635]\n",
      "0.829356711207\n"
     ]
    }
   ],
   "source": [
    "def linearFit(t, m, b): \n",
    "    return m*t + b\n",
    "\n",
    "\n",
    "T = [0.50, 1.00, 1.50, 2.00, 2.50, 3.00, 3.50, 4.00, 4.50]\n",
    "L = [ 0.010, 0.025, 0.070, 0.10, 0.140, 0.230, 0.310, 0.350, 0.500]\n",
    "y = []\n",
    "x = []\n",
    "dy = 4*np.pi**2*0.03\n",
    "dx = []\n",
    "dg = []\n",
    "\n",
    "\n",
    "\n",
    "for i in range(len(T)):\n",
    "    y.append(4*np.pi**2*L[i])\n",
    "    x.append(T[i]**2)\n",
    "    dx.append(0.2/(T[i]**2))\n",
    "    dg.append((4*np.pi**2)*np.sqrt(((0.03/(T[i]**2))**2)+(0.1*2*L[i]*(T[i]**(-3)))**2))\n",
    "    \n",
    "y = np.array(y)\n",
    "x = np.array(x)\n",
    "dx = np.array(dx)\n",
    "              \n",
    "#print (dy)\n",
    "#print (dx)\n",
    "print (dg)\n",
    "print (np.average(dg))\n"
   ]
  },
  {
   "cell_type": "code",
   "execution_count": 46,
   "metadata": {
    "collapsed": false
   },
   "outputs": [
    {
     "name": "stdout",
     "output_type": "stream",
     "text": [
      "[ 0.93297072  0.22454341]\n",
      "[[ 0.00116918 -0.00925599]\n",
      " [-0.00925599  0.12449303]]\n"
     ]
    }
   ],
   "source": [
    "fitParams, fitCovariances = curve_fit(linearFit, x, y)\n",
    "print(fitParams)\n",
    "print(fitCovariances)"
   ]
  },
  {
   "cell_type": "code",
   "execution_count": 50,
   "metadata": {
    "collapsed": false,
    "scrolled": true
   },
   "outputs": [
    {
     "data": {
      "image/png": "[encoded data removed]",
      "text/plain": [
       "<matplotlib.figure.Figure at 0x7f48e3e31a90>"
      ]
     },
     "metadata": {},
     "output_type": "display_data"
    }
   ],
   "source": [
    "plt.plot(x, y, 'o')\n",
    "plt.title('Gravitational Acceleration of a Mysterious Planet', fontsize = 18)\n",
    "plt.xlabel('$T^2$ ($s^2$)', fontsize=24)\n",
    "plt.ylabel('$4 \\pi^2 L$ ($m$)', fontsize=24)\n",
    "plt.errorbar(x, y, fmt = 'ro', xerr= dx, yerr = dy)\n",
    "#x error bars, apart from the first one, are all too small to be seen. I printed the values two lines above for verification.\n",
    "plt.plot(x, linearFit(x, fitParams[0], fitParams[1]), label='$g$=(0.93  $\\pm$ 0.83) $m/s^2$')\n",
    "plt.legend(bbox_to_anchor=(0.62,0.95), fontsize = 18)\n",
    "plt.show()\n"
   ]
  },
  {
   "cell_type": "markdown",
   "metadata": {},
   "source": [
    "### Question 3 Answer\n",
    "\n",
    "g $\\pm\\;\\Delta$ g = (0.93 $\\pm$ 0.83)$\\frac{m}{s^2}$"
   ]
  },
  {
   "cell_type": "markdown",
   "metadata": {},
   "source": [
    "# Final Step for online portion\n",
    "## Final steps, then move on to written portion\n",
    "\n",
    "Now make sure to commit your changes to your master copy, but before doing so, place a link to your repository in the next cell.   "
   ]
  },
  {
   "cell_type": "markdown",
   "metadata": {},
   "source": [
    "Repository Link = "
   ]
  },
  {
   "cell_type": "code",
   "execution_count": null,
   "metadata": {
    "collapsed": true
   },
   "outputs": [],
   "source": []
  }
 ],
 "metadata": {
  "kernelspec": {
   "display_name": "Python 3",
   "language": "python",
   "name": "python3"
  },
  "language_info": {
   "codemirror_mode": {
    "name": "ipython",
    "version": 3
   },
   "file_extension": ".py",
   "mimetype": "text/x-python",
   "name": "python",
   "nbconvert_exporter": "python",
   "pygments_lexer": "ipython3",
   "version": "3.4.3"
  }
 },
 "nbformat": 4,
 "nbformat_minor": 0
}
